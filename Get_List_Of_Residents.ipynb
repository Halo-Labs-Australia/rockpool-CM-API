{
 "cells": [
  {
   "cell_type": "code",
   "execution_count": null,
   "id": "c33edf1f",
   "metadata": {},
   "outputs": [
    {
     "data": {
      "text/plain": [
       "True"
      ]
     },
     "execution_count": 12,
     "metadata": {},
     "output_type": "execute_result"
    }
   ],
   "source": [
    "import requests\n",
    "import dask.dataframe as dd\n",
    "from datetime import datetime\n",
    "import json\n",
    "import pandas as pd\n",
    "import os\n",
    "from dotenv import load_dotenv\n",
    "import pyodbc\n",
    "import sqlalchemy\n",
    "import cm_utlity_library\n",
    "# from delta.tables import DeltaTable\n",
    "\n",
    "load_dotenv()"
   ]
  },
  {
   "cell_type": "code",
   "execution_count": null,
   "id": "1cc455a3",
   "metadata": {},
   "outputs": [],
   "source": [
    "facility_id_list = [\"1000\", \"1001\", \"1002\", \"1003\"]\n",
    "BASE_URL = \"https://rockpoolrac.residential.icarehealth.com.au/Tetra.Web\"\n",
    "TOKEN = cm_utlity_library.get_cm_access_token()"
   ]
  },
  {
   "cell_type": "code",
   "execution_count": 20,
   "id": "4dd638c3",
   "metadata": {},
   "outputs": [],
   "source": [
    "def get_residency(facility_id, TOKEN):\n",
    "    url = f\"{BASE_URL}/api/ExternalResidencyV2/Search?facilityId={facility_id}\"\n",
    "    \n",
    "    headers = {\n",
    "        \"Authorization\": f\"Bearer {TOKEN}\",\n",
    "        \"Accept\": \"application/json\"\n",
    "    }\n",
    "    \n",
    "    response = requests.get(url, headers=headers)\n",
    "    response.raise_for_status()  # Will raise an error for 401, 403, etc.\n",
    "\n",
    "    if response.status_code != 200:\n",
    "        raise Exception(f\"Failed to retrieve data: {response.status_code} - {response.text}\")\n",
    "    \n",
    "    data = response.json()[\"Residencies\"]\n",
    "\n",
    "    # If the data is nested, adjust this line as needed\n",
    "    df = pd.DataFrame(data)\n",
    "    return df"
   ]
  },
  {
   "cell_type": "code",
   "execution_count": 24,
   "id": "f571133c",
   "metadata": {},
   "outputs": [],
   "source": [
    "df_output = pd.DataFrame()"
   ]
  },
  {
   "cell_type": "code",
   "execution_count": 26,
   "id": "87617dd0",
   "metadata": {},
   "outputs": [],
   "source": [
    "df_list = []\n",
    "\n",
    "for facility_id in facility_id_list:\n",
    "    df = get_residency(facility_id, TOKEN)\n",
    "    df_list.append(df)\n",
    "\n",
    "df_output = pd.concat(df_list, ignore_index=True)\n"
   ]
  },
  {
   "cell_type": "code",
   "execution_count": 27,
   "id": "411d198f",
   "metadata": {},
   "outputs": [
    {
     "data": {
      "application/vnd.microsoft.datawrangler.viewer.v0+json": {
       "columns": [
        {
         "name": "index",
         "rawType": "int64",
         "type": "integer"
        },
        {
         "name": "Id",
         "rawType": "int64",
         "type": "integer"
        },
        {
         "name": "ResidentId",
         "rawType": "int64",
         "type": "integer"
        },
        {
         "name": "FacilityId",
         "rawType": "int64",
         "type": "integer"
        },
        {
         "name": "LocationId",
         "rawType": "int64",
         "type": "integer"
        },
        {
         "name": "Status",
         "rawType": "int64",
         "type": "integer"
        },
        {
         "name": "DateOfEntry",
         "rawType": "object",
         "type": "string"
        },
        {
         "name": "DateTerminated",
         "rawType": "object",
         "type": "unknown"
        },
        {
         "name": "DateDeleted",
         "rawType": "object",
         "type": "unknown"
        },
        {
         "name": "EntryType",
         "rawType": "int64",
         "type": "integer"
        },
        {
         "name": "DateCreated",
         "rawType": "object",
         "type": "string"
        },
        {
         "name": "DischargeReason",
         "rawType": "float64",
         "type": "float"
        },
        {
         "name": "FacilityRacs",
         "rawType": "int64",
         "type": "integer"
        },
        {
         "name": "FacilityLocationName",
         "rawType": "object",
         "type": "string"
        },
        {
         "name": "ResidentUrl",
         "rawType": "object",
         "type": "unknown"
        }
       ],
       "ref": "e8f11799-d0e4-4445-97f6-43113709d7ba",
       "rows": [
        [
         "0",
         "58",
         "3",
         "1000",
         "1",
         "0",
         "2019-10-25T10:00:00",
         null,
         null,
         "1",
         "2019-12-16T15:10:45",
         "0.0",
         "5437",
         "Springbrook",
         null
        ],
        [
         "1",
         "5",
         "4",
         "1000",
         "4",
         "0",
         "2019-10-04T10:00:00",
         null,
         null,
         "1",
         "2019-10-04T17:51:42",
         "0.0",
         "5437",
         "Maleny",
         null
        ],
        [
         "2",
         "53",
         "7",
         "1000",
         "5",
         "0",
         "2019-11-21T10:00:00",
         null,
         null,
         "1",
         "2019-12-16T14:56:16",
         "0.0",
         "5437",
         "Glasshouse",
         null
        ],
        [
         "3",
         "11",
         "11",
         "1000",
         "2",
         "0",
         "2019-10-18T10:00:00",
         null,
         null,
         "1",
         "2019-10-18T02:38:21",
         "0.0",
         "5437",
         "Daintree",
         null
        ],
        [
         "4",
         "206",
         "17",
         "1000",
         "2",
         "0",
         "2020-07-24T14:00:00",
         null,
         null,
         "1",
         "2020-07-23T13:22:07",
         "0.0",
         "5437",
         "Daintree",
         null
        ]
       ],
       "shape": {
        "columns": 14,
        "rows": 5
       }
      },
      "text/html": [
       "<div>\n",
       "<style scoped>\n",
       "    .dataframe tbody tr th:only-of-type {\n",
       "        vertical-align: middle;\n",
       "    }\n",
       "\n",
       "    .dataframe tbody tr th {\n",
       "        vertical-align: top;\n",
       "    }\n",
       "\n",
       "    .dataframe thead th {\n",
       "        text-align: right;\n",
       "    }\n",
       "</style>\n",
       "<table border=\"1\" class=\"dataframe\">\n",
       "  <thead>\n",
       "    <tr style=\"text-align: right;\">\n",
       "      <th></th>\n",
       "      <th>Id</th>\n",
       "      <th>ResidentId</th>\n",
       "      <th>FacilityId</th>\n",
       "      <th>LocationId</th>\n",
       "      <th>Status</th>\n",
       "      <th>DateOfEntry</th>\n",
       "      <th>DateTerminated</th>\n",
       "      <th>DateDeleted</th>\n",
       "      <th>EntryType</th>\n",
       "      <th>DateCreated</th>\n",
       "      <th>DischargeReason</th>\n",
       "      <th>FacilityRacs</th>\n",
       "      <th>FacilityLocationName</th>\n",
       "      <th>ResidentUrl</th>\n",
       "    </tr>\n",
       "  </thead>\n",
       "  <tbody>\n",
       "    <tr>\n",
       "      <th>0</th>\n",
       "      <td>58</td>\n",
       "      <td>3</td>\n",
       "      <td>1000</td>\n",
       "      <td>1</td>\n",
       "      <td>0</td>\n",
       "      <td>2019-10-25T10:00:00</td>\n",
       "      <td>None</td>\n",
       "      <td>None</td>\n",
       "      <td>1</td>\n",
       "      <td>2019-12-16T15:10:45</td>\n",
       "      <td>0.0</td>\n",
       "      <td>5437</td>\n",
       "      <td>Springbrook</td>\n",
       "      <td>None</td>\n",
       "    </tr>\n",
       "    <tr>\n",
       "      <th>1</th>\n",
       "      <td>5</td>\n",
       "      <td>4</td>\n",
       "      <td>1000</td>\n",
       "      <td>4</td>\n",
       "      <td>0</td>\n",
       "      <td>2019-10-04T10:00:00</td>\n",
       "      <td>None</td>\n",
       "      <td>None</td>\n",
       "      <td>1</td>\n",
       "      <td>2019-10-04T17:51:42</td>\n",
       "      <td>0.0</td>\n",
       "      <td>5437</td>\n",
       "      <td>Maleny</td>\n",
       "      <td>None</td>\n",
       "    </tr>\n",
       "    <tr>\n",
       "      <th>2</th>\n",
       "      <td>53</td>\n",
       "      <td>7</td>\n",
       "      <td>1000</td>\n",
       "      <td>5</td>\n",
       "      <td>0</td>\n",
       "      <td>2019-11-21T10:00:00</td>\n",
       "      <td>None</td>\n",
       "      <td>None</td>\n",
       "      <td>1</td>\n",
       "      <td>2019-12-16T14:56:16</td>\n",
       "      <td>0.0</td>\n",
       "      <td>5437</td>\n",
       "      <td>Glasshouse</td>\n",
       "      <td>None</td>\n",
       "    </tr>\n",
       "    <tr>\n",
       "      <th>3</th>\n",
       "      <td>11</td>\n",
       "      <td>11</td>\n",
       "      <td>1000</td>\n",
       "      <td>2</td>\n",
       "      <td>0</td>\n",
       "      <td>2019-10-18T10:00:00</td>\n",
       "      <td>None</td>\n",
       "      <td>None</td>\n",
       "      <td>1</td>\n",
       "      <td>2019-10-18T02:38:21</td>\n",
       "      <td>0.0</td>\n",
       "      <td>5437</td>\n",
       "      <td>Daintree</td>\n",
       "      <td>None</td>\n",
       "    </tr>\n",
       "    <tr>\n",
       "      <th>4</th>\n",
       "      <td>206</td>\n",
       "      <td>17</td>\n",
       "      <td>1000</td>\n",
       "      <td>2</td>\n",
       "      <td>0</td>\n",
       "      <td>2020-07-24T14:00:00</td>\n",
       "      <td>None</td>\n",
       "      <td>None</td>\n",
       "      <td>1</td>\n",
       "      <td>2020-07-23T13:22:07</td>\n",
       "      <td>0.0</td>\n",
       "      <td>5437</td>\n",
       "      <td>Daintree</td>\n",
       "      <td>None</td>\n",
       "    </tr>\n",
       "  </tbody>\n",
       "</table>\n",
       "</div>"
      ],
      "text/plain": [
       "    Id  ResidentId  FacilityId  LocationId  Status          DateOfEntry  \\\n",
       "0   58           3        1000           1       0  2019-10-25T10:00:00   \n",
       "1    5           4        1000           4       0  2019-10-04T10:00:00   \n",
       "2   53           7        1000           5       0  2019-11-21T10:00:00   \n",
       "3   11          11        1000           2       0  2019-10-18T10:00:00   \n",
       "4  206          17        1000           2       0  2020-07-24T14:00:00   \n",
       "\n",
       "  DateTerminated DateDeleted  EntryType          DateCreated  DischargeReason  \\\n",
       "0           None        None          1  2019-12-16T15:10:45              0.0   \n",
       "1           None        None          1  2019-10-04T17:51:42              0.0   \n",
       "2           None        None          1  2019-12-16T14:56:16              0.0   \n",
       "3           None        None          1  2019-10-18T02:38:21              0.0   \n",
       "4           None        None          1  2020-07-23T13:22:07              0.0   \n",
       "\n",
       "   FacilityRacs FacilityLocationName ResidentUrl  \n",
       "0          5437          Springbrook        None  \n",
       "1          5437               Maleny        None  \n",
       "2          5437           Glasshouse        None  \n",
       "3          5437             Daintree        None  \n",
       "4          5437             Daintree        None  "
      ]
     },
     "metadata": {},
     "output_type": "display_data"
    }
   ],
   "source": [
    "display(df_output.head())"
   ]
  },
  {
   "cell_type": "code",
   "execution_count": null,
   "id": "76599ae0",
   "metadata": {},
   "outputs": [],
   "source": []
  }
 ],
 "metadata": {
  "kernelspec": {
   "display_name": "rockpool",
   "language": "python",
   "name": "python3"
  },
  "language_info": {
   "codemirror_mode": {
    "name": "ipython",
    "version": 3
   },
   "file_extension": ".py",
   "mimetype": "text/x-python",
   "name": "python",
   "nbconvert_exporter": "python",
   "pygments_lexer": "ipython3",
   "version": "3.11.13"
  }
 },
 "nbformat": 4,
 "nbformat_minor": 5
}
