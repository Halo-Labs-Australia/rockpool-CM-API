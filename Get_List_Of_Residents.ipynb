{
 "cells": [
  {
   "cell_type": "code",
   "execution_count": 18,
   "id": "c33edf1f",
   "metadata": {},
   "outputs": [
    {
     "data": {
      "text/plain": [
       "True"
      ]
     },
     "execution_count": 18,
     "metadata": {},
     "output_type": "execute_result"
    }
   ],
   "source": [
    "import requests\n",
    "import dask.dataframe as dd\n",
    "from datetime import datetime\n",
    "import json\n",
    "import pandas as pd\n",
    "import os\n",
    "from dotenv import load_dotenv\n",
    "import pyodbc\n",
    "import sqlalchemy\n",
    "\n",
    "# from delta.tables import DeltaTable\n",
    "\n",
    "load_dotenv()"
   ]
  },
  {
   "cell_type": "code",
   "execution_count": 32,
   "id": "1cc455a3",
   "metadata": {},
   "outputs": [],
   "source": [
    "facility_id_list = [\"1000\", \"1001\", \"1002\", \"1003\"]\n",
    "BASE_URL = \"https://rockpoolrac.residential.icarehealth.com.au/Tetra.Web\""
   ]
  },
  {
   "cell_type": "code",
   "execution_count": null,
   "id": "93efc130",
   "metadata": {},
   "outputs": [],
   "source": [
    "def get_residency(facility_id):\n",
    "    url = f\"https://{BASE_URL}/api/ExternalResidencyV2/Search?facilityId={facility_id}\"\n"
   ]
  }
 ],
 "metadata": {
  "kernelspec": {
   "display_name": "rockpool",
   "language": "python",
   "name": "python3"
  },
  "language_info": {
   "codemirror_mode": {
    "name": "ipython",
    "version": 3
   },
   "file_extension": ".py",
   "mimetype": "text/x-python",
   "name": "python",
   "nbconvert_exporter": "python",
   "pygments_lexer": "ipython3",
   "version": "3.11.13"
  }
 },
 "nbformat": 4,
 "nbformat_minor": 5
}
