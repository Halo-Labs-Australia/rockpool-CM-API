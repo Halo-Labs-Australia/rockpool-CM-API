{
 "cells": [
  {
   "cell_type": "code",
   "execution_count": 1,
   "id": "1e6785f6",
   "metadata": {},
   "outputs": [
    {
     "data": {
      "text/plain": [
       "True"
      ]
     },
     "execution_count": 1,
     "metadata": {},
     "output_type": "execute_result"
    }
   ],
   "source": [
    "import requests\n",
    "import dask.dataframe as dd\n",
    "from datetime import datetime\n",
    "import json\n",
    "import pandas as pd\n",
    "import os\n",
    "from dotenv import load_dotenv\n",
    "# from delta.tables import DeltaTable\n",
    "\n",
    "load_dotenv()"
   ]
  },
  {
   "cell_type": "code",
   "execution_count": null,
   "id": "4770def9",
   "metadata": {},
   "outputs": [
    {
     "name": "stdout",
     "output_type": "stream",
     "text": [
      "CM token successfully retrieved\n"
     ]
    }
   ],
   "source": [
    "import requests\n",
    "import base64\n",
    "def get_cm_access_token():\n",
    "    # Credentials\n",
    "    password = os.getenv(\"CM_API_PASSWORD\", \"\")  # Default value for testing\n",
    "    username = \"cmapi\"\n",
    "    # Token URL\n",
    "    token_url = \"https://rockpoolrac.residential.icarehealth.com.au/Tetra.Web/OAuth/Token\"\n",
    "    # Encode Basic Auth header\n",
    "    credentials = f\"{username}:{password}\"\n",
    "    encoded_credentials = base64.b64encode(credentials.encode(\"utf-8\")).decode(\"utf-8\")\n",
    "    # Headers and form data\n",
    "    headers = {\n",
    "        \"Authorization\": f\"Basic {encoded_credentials}\",\n",
    "        \"Content-Type\": \"application/x-www-form-urlencoded\"\n",
    "    }\n",
    "    data = {\n",
    "        \"grant_type\": \"client_credentials\"\n",
    "    }\n",
    "    # Token request\n",
    "    response = requests.post(token_url, headers=headers, data=data)\n",
    "    if response.status_code == 200:\n",
    "        token = response.json().get(\"access_token\")\n",
    "        return token\n",
    "    else:\n",
    "        raise Exception(f\"Failed to retrieve token: {response.status_code} - {response.text}\")\n",
    "    \n",
    "    \n",
    "# Test token retrieval\n",
    "cm_access_token = get_cm_access_token()\n",
    "if cm_access_token:\n",
    "    print(\"CM token successfully retrieved\")\n",
    "else:\n",
    "    print(\"Token retrieval failed\")"
   ]
  },
  {
   "cell_type": "code",
   "execution_count": null,
   "id": "1085aced",
   "metadata": {},
   "outputs": [],
   "source": [
    "BASE_URL = \"https://rockpoolrac.residential.icarehealth.com.au/Tetra.Web\""
   ]
  },
  {
   "cell_type": "code",
   "execution_count": null,
   "id": "efd7aebf",
   "metadata": {},
   "outputs": [],
   "source": [
    "headers = {\n",
    "    \"Authorization\": f\"Bearer {cm_access_token}\",\n",
    "    \"Accept\": \"application/json\",\n",
    "}\n",
    "\n",
    "form_id = \"153770\"\n",
    "USER_ID = \"2905\"\n",
    "\n",
    "\n",
    "url = f\"{BASE_URL}/api/AssessmentForms/GetAssessmentFormForEdit?formId={form_id}&userId={USER_ID}\"\n",
    "residents_bulk_sync_url = \"\"\n",
    "# unfinished_form_url = f\"{BASE_URL}/api/AssessmentForms/GetResidentUnfinishedForms\""
   ]
  },
  {
   "cell_type": "code",
   "execution_count": null,
   "id": "99790de3",
   "metadata": {},
   "outputs": [],
   "source": [
    "def fetch_api(url, headers):\n",
    "    resp = requests.get(url, headers=headers)\n",
    "    resp.raise_for_status()\n",
    "    json_text = resp.text\n",
    "    return json_text"
   ]
  },
  {
   "cell_type": "code",
   "execution_count": null,
   "id": "d6aeb7f4",
   "metadata": {},
   "outputs": [],
   "source": [
    "records = []\n",
    "\n",
    "record = fetch_api(url, headers)\n",
    "if isinstance(record, dict) and \"data\" in record:\n",
    "    records = record[\"data\"]\n",
    "\n",
    "\n",
    "# Quick sanity check:\n",
    "for i, rec in enumerate(records[:5]):\n",
    "    print(i, type(rec))"
   ]
  },
  {
   "cell_type": "code",
   "execution_count": null,
   "id": "183ff706",
   "metadata": {},
   "outputs": [
    {
     "name": "stdout",
     "output_type": "stream",
     "text": [
      "Series([], dtype: object)\n"
     ]
    }
   ],
   "source": [
    "df = pd.json_normalize(\n",
    "    records,\n",
    "    record_path=[\"items\", \"responses\"],\n",
    "    meta=[\n",
    "        \"formId\",\n",
    "        \"formVersion\",\n",
    "        \"status\",\n",
    "        \"dateCompleted\",\n",
    "        [\"items\", \"templateQuestion\", \"text\"]\n",
    "    ],\n",
    "    record_prefix=\"resp_\",\n",
    "    meta_prefix=\"meta_\"\n",
    ")\n",
    "\n",
    "# 3. Rename that nested question‐text column\n",
    "df = df.rename(columns={\"meta_items.templateQuestion.text\": \"question_text\"})\n",
    "\n",
    "print(df.dtypes)\n"
   ]
  },
  {
   "cell_type": "code",
   "execution_count": null,
   "id": "c9b0471d",
   "metadata": {},
   "outputs": [
    {
     "name": "stdout",
     "output_type": "stream",
     "text": [
      "Empty DataFrame\n",
      "Columns: []\n",
      "Index: []\n"
     ]
    }
   ],
   "source": [
    "print(df.head(5))"
   ]
  },
  {
   "cell_type": "code",
   "execution_count": null,
   "id": "5ea7d414",
   "metadata": {},
   "outputs": [],
   "source": [
    "\n",
    "# then\n",
    "ddf = dd.from_pandas(df, npartitions=4)  # or read JSON directly with dask.bag/json if large"
   ]
  },
  {
   "cell_type": "code",
   "execution_count": null,
   "id": "8ae8f8b2",
   "metadata": {},
   "outputs": [
    {
     "name": "stderr",
     "output_type": "stream",
     "text": [
      "c:\\Users\\HarryZhan\\miniconda3\\envs\\rockpool\\Lib\\site-packages\\dask\\dataframe\\core.py:382: UserWarning: Insufficient elements for `head`. 5 elements requested, only 0 elements available. Try passing larger `npartitions` to `head`.\n",
      "  warnings.warn(\n"
     ]
    },
    {
     "data": {
      "application/vnd.microsoft.datawrangler.viewer.v0+json": {
       "columns": [
        {
         "name": "index",
         "rawType": "int64",
         "type": "integer"
        }
       ],
       "ref": "e4a65d50-2d29-413d-b19f-bc1f967376c3",
       "rows": [],
       "shape": {
        "columns": 0,
        "rows": 0
       }
      },
      "text/html": [
       "<div>\n",
       "<style scoped>\n",
       "    .dataframe tbody tr th:only-of-type {\n",
       "        vertical-align: middle;\n",
       "    }\n",
       "\n",
       "    .dataframe tbody tr th {\n",
       "        vertical-align: top;\n",
       "    }\n",
       "\n",
       "    .dataframe thead th {\n",
       "        text-align: right;\n",
       "    }\n",
       "</style>\n",
       "<table border=\"1\" class=\"dataframe\">\n",
       "  <thead>\n",
       "    <tr style=\"text-align: right;\">\n",
       "      <th></th>\n",
       "    </tr>\n",
       "  </thead>\n",
       "  <tbody>\n",
       "  </tbody>\n",
       "</table>\n",
       "</div>"
      ],
      "text/plain": [
       "Empty DataFrame\n",
       "Columns: []\n",
       "Index: []"
      ]
     },
     "execution_count": 10,
     "metadata": {},
     "output_type": "execute_result"
    }
   ],
   "source": [
    "ddf.head(5)  # Display first 5 rows of the Dask DataFrame"
   ]
  }
 ],
 "metadata": {
  "kernelspec": {
   "display_name": "rockpool",
   "language": "python",
   "name": "python3"
  },
  "language_info": {
   "codemirror_mode": {
    "name": "ipython",
    "version": 3
   },
   "file_extension": ".py",
   "mimetype": "text/x-python",
   "name": "python",
   "nbconvert_exporter": "python",
   "pygments_lexer": "ipython3",
   "version": "3.11.13"
  }
 },
 "nbformat": 4,
 "nbformat_minor": 5
}
